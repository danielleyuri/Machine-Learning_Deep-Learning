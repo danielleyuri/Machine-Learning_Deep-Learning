{
 "cells": [
  {
   "cell_type": "code",
   "execution_count": 2,
   "id": "9ec2acb4",
   "metadata": {},
   "outputs": [],
   "source": [
    "import json\n",
    "import numpy as np\n",
    "from tensorflow import keras\n",
    "from sklearn.preprocessing import LabelEncoder\n",
    "import colorama\n",
    "colorama.init\n",
    "from colorama import Fore, Style, Back\n",
    "import random\n",
    "import pickle"
   ]
  },
  {
   "cell_type": "code",
   "execution_count": 3,
   "id": "3d54fe27",
   "metadata": {},
   "outputs": [],
   "source": [
    "with open('intents.json') as file:\n",
    "    data = json.load(file)"
   ]
  },
  {
   "cell_type": "code",
   "execution_count": 4,
   "id": "9a9a7827",
   "metadata": {},
   "outputs": [],
   "source": [
    "def chat():\n",
    "    model = keras.models.load_model('chat_model')\n",
    "    with open('tokenizer.pickle', 'rb') as handle:\n",
    "        tokenizer = pickle.load(handle)\n",
    "    with open('label_encoder.pickle','rb') as enc:\n",
    "        lbl_encoder = pickle.load(enc)\n",
    "    max_len = 20\n",
    "    \n",
    "    while True:\n",
    "        print(Fore.LIGHTBLUE_EX + \"User: \" + Style.RESET_ALL, end= \"\")\n",
    "        inp = input()\n",
    "        if inp.lower() == \"quit\":\n",
    "            break\n",
    "        \n",
    "        result = model.predict(keras.preprocessing.sequence.pad_sequences(tokenizer.texts_to_sequences([inp]),\n",
    "                                                                          truncating='post', maxlen=max_len))\n",
    "        \n",
    "        tag = lbl_encoder.inverse_transform([np.argmax(result)])\n",
    "        \n",
    "        for i in data['intents']:\n",
    "            if i['tag'] == tag:\n",
    "                print(Fore.GREEN + \"ChatBot:\" + Style.RESET_ALL, np.random.choice(i['responses']))"
   ]
  },
  {
   "cell_type": "code",
   "execution_count": 5,
   "id": "d6ac1c35",
   "metadata": {},
   "outputs": [
    {
     "name": "stdout",
     "output_type": "stream",
     "text": [
      "\u001b[33mStart messaging with the bot(type quit to stop)!\u001b[0m\n"
     ]
    }
   ],
   "source": [
    "print(Fore.YELLOW + \"Start messaging with the bot(type quit to stop)!\" + Style.RESET_ALL)"
   ]
  },
  {
   "cell_type": "code",
   "execution_count": null,
   "id": "eaa1702b",
   "metadata": {
    "scrolled": true
   },
   "outputs": [
    {
     "name": "stdout",
     "output_type": "stream",
     "text": [
      "\u001b[94mUser: \u001b[0mHello\n",
      "\u001b[32mChatBot:\u001b[0m Hi\n",
      "\u001b[94mUser: \u001b[0mWhats your name ?\n",
      "\u001b[32mChatBot:\u001b[0m I'm Joana!\n",
      "\u001b[94mUser: \u001b[0m"
     ]
    }
   ],
   "source": [
    "chat()"
   ]
  },
  {
   "cell_type": "code",
   "execution_count": null,
   "id": "04950c7f",
   "metadata": {},
   "outputs": [],
   "source": []
  }
 ],
 "metadata": {
  "kernelspec": {
   "display_name": "Python 3",
   "language": "python",
   "name": "python3"
  },
  "language_info": {
   "codemirror_mode": {
    "name": "ipython",
    "version": 3
   },
   "file_extension": ".py",
   "mimetype": "text/x-python",
   "name": "python",
   "nbconvert_exporter": "python",
   "pygments_lexer": "ipython3",
   "version": "3.8.8"
  }
 },
 "nbformat": 4,
 "nbformat_minor": 5
}
